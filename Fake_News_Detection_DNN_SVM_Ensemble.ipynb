{
 "cells": [
  {
   "cell_type": "markdown",
   "id": "ed5a3f36",
   "metadata": {},
   "source": [
    "# Importing and constructing our pre-processing function"
   ]
  },
  {
   "cell_type": "code",
   "execution_count": 13,
   "id": "fda86667",
   "metadata": {
    "scrolled": false
   },
   "outputs": [],
   "source": [
    "from sklearn.model_selection import train_test_split\n",
    "from sklearn.feature_extraction.text import TfidfVectorizer,CountVectorizer # Vectorizers\n",
    "from sklearn.metrics import precision_score, recall_score, f1_score,confusion_matrix,accuracy_score # Evaluation metrics\n",
    "\n",
    "import re\n",
    "from nltk.corpus import stopwords\n",
    "from nltk.stem import WordNetLemmatizer\n",
    "import nltk\n",
    "from nltk.stem.porter import PorterStemmer\n",
    "\n",
    "def preProcess(text):\n",
    "    ps = PorterStemmer()\n",
    "#     wordnet=WordNetLemmatizer()\n",
    "    text = re.sub('https?://\\S+|www\\.\\S+', '', text) # removes any URLs\n",
    "    sentences = nltk.sent_tokenize(text)\n",
    "    corpus = []\n",
    "    for i in range(len(sentences)):\n",
    "        sentence = re.sub('[^a-zA-Z]', ' ', sentences[i]) #substitute all characters except alphabets with ' '\n",
    "        sentence = sentence.lower() #Lower all characters in the sentence\n",
    "        sentence = sentence.split() # Convert the sentence into list of words so we apply lemmatization.\n",
    "        #Lemmatizing non stopwords and removing stopwords\n",
    "        sentence = [ps.stem(word) for word in sentence if not word in set(stopwords.words('english'))] \n",
    "        sentence = ' '.join(sentence) # Turn it back into a sentence\n",
    "        corpus.append(sentence) # This will result into an array of sentences as it's elements\n",
    "    result = \" \".join(corpus)\n",
    "    return result\n",
    "\n"
   ]
  },
  {
   "cell_type": "markdown",
   "id": "ddf83b48",
   "metadata": {},
   "source": [
    "## Loading the datasets"
   ]
  },
  {
   "cell_type": "code",
   "execution_count": 14,
   "id": "1387f3ac",
   "metadata": {},
   "outputs": [],
   "source": [
    "import pandas as pd\n",
    "\n",
    "# Load the dataset\n",
    "dataset = pd.read_csv('stemmed_WELFake_70k.csv')\n",
    "pd.options.mode.chained_assignment = None\n",
    "# dataset = dataset[dataset['lemma_text'].astype(str).apply(lambda x: len(x.strip()) > 0)]"
   ]
  },
  {
   "cell_type": "code",
   "execution_count": 15,
   "id": "3aa740a3",
   "metadata": {},
   "outputs": [
    {
     "data": {
      "image/png": "[encoded data removed]",
      "text/plain": [
       "<Figure size 500x400 with 1 Axes>"
      ]
     },
     "metadata": {},
     "output_type": "display_data"
    }
   ],
   "source": [
    "import pandas as pd\n",
    "import seaborn as sns\n",
    "import matplotlib.pyplot as plt\n",
    "\n",
    "# Count the occurrences of each class label\n",
    "class_counts = dataset['isFake'].value_counts()\n",
    "\n",
    "# Plot the counts using seaborn\n",
    "plt.figure(figsize=(5, 4))\n",
    "sns.barplot(x=class_counts.index, y=class_counts.values, palette='viridis')\n",
    "plt.title('Fake/Real news distribution')\n",
    "plt.xlabel('isFake')\n",
    "plt.show()\n"
   ]
  },
  {
   "cell_type": "markdown",
   "id": "64dd7352",
   "metadata": {},
   "source": [
    "## Checking for NaN values "
   ]
  },
  {
   "cell_type": "code",
   "execution_count": 16,
   "id": "3621bbb2",
   "metadata": {},
   "outputs": [
    {
     "data": {
      "text/plain": [
       "Unnamed: 0      0\n",
       "title           0\n",
       "text            0\n",
       "label           0\n",
       "isFake          0\n",
       "lemma_text    748\n",
       "dtype: int64"
      ]
     },
     "execution_count": 16,
     "metadata": {},
     "output_type": "execute_result"
    }
   ],
   "source": [
    "dataset.isna().sum()"
   ]
  },
  {
   "cell_type": "markdown",
   "id": "06046cff",
   "metadata": {},
   "source": [
    "## Removing NaN values if there's any "
   ]
  },
  {
   "cell_type": "code",
   "execution_count": 17,
   "id": "15d0d711",
   "metadata": {},
   "outputs": [],
   "source": [
    "dataset = dataset.dropna() #Remove all records with NaN values"
   ]
  },
  {
   "cell_type": "code",
   "execution_count": 18,
   "id": "9ec7a39a",
   "metadata": {},
   "outputs": [
    {
     "data": {
      "text/plain": [
       "Unnamed: 0    0\n",
       "title         0\n",
       "text          0\n",
       "label         0\n",
       "isFake        0\n",
       "lemma_text    0\n",
       "dtype: int64"
      ]
     },
     "execution_count": 18,
     "metadata": {},
     "output_type": "execute_result"
    }
   ],
   "source": [
    "dataset.isna().sum()"
   ]
  },
  {
   "cell_type": "markdown",
   "id": "3e22736d",
   "metadata": {},
   "source": [
    "## Reseting the indexes, since we deleted NaN values"
   ]
  },
  {
   "cell_type": "code",
   "execution_count": 19,
   "id": "e90a14ac",
   "metadata": {},
   "outputs": [],
   "source": [
    "dataset.reset_index(drop=True, inplace=True)"
   ]
  },
  {
   "cell_type": "markdown",
   "id": "7ef95f83",
   "metadata": {},
   "source": [
    "### Adding a column \"isFake\" to be consistent with the other dataset ( 1 = FAKE, 0 = REAL)"
   ]
  },
  {
   "cell_type": "code",
   "execution_count": 20,
   "id": "f913f507",
   "metadata": {},
   "outputs": [],
   "source": [
    "dataset[\"isFake\"] = dataset[\"label\"].apply(lambda x: 0 if (x == \"REAL\" or x == 1) else 1)"
   ]
  },
  {
   "cell_type": "code",
   "execution_count": 21,
   "id": "9896f60a",
   "metadata": {},
   "outputs": [
    {
     "data": {
      "text/html": [
       "<div>\n",
       "<style scoped>\n",
       "    .dataframe tbody tr th:only-of-type {\n",
       "        vertical-align: middle;\n",
       "    }\n",
       "\n",
       "    .dataframe tbody tr th {\n",
       "        vertical-align: top;\n",
       "    }\n",
       "\n",
       "    .dataframe thead th {\n",
       "        text-align: right;\n",
       "    }\n",
       "</style>\n",
       "<table border=\"1\" class=\"dataframe\">\n",
       "  <thead>\n",
       "    <tr style=\"text-align: right;\">\n",
       "      <th></th>\n",
       "      <th>Unnamed: 0</th>\n",
       "      <th>title</th>\n",
       "      <th>text</th>\n",
       "      <th>label</th>\n",
       "      <th>isFake</th>\n",
       "      <th>lemma_text</th>\n",
       "    </tr>\n",
       "  </thead>\n",
       "  <tbody>\n",
       "    <tr>\n",
       "      <th>0</th>\n",
       "      <td>0</td>\n",
       "      <td>LAW ENFORCEMENT ON HIGH ALERT Following Threat...</td>\n",
       "      <td>No comment is expected from Barack Obama Membe...</td>\n",
       "      <td>1</td>\n",
       "      <td>0</td>\n",
       "      <td>comment expect barack obama member fyf fukyofl...</td>\n",
       "    </tr>\n",
       "    <tr>\n",
       "      <th>1</th>\n",
       "      <td>2</td>\n",
       "      <td>UNBELIEVABLE! OBAMA’S ATTORNEY GENERAL SAYS MO...</td>\n",
       "      <td>Now, most of the demonstrators gathered last ...</td>\n",
       "      <td>1</td>\n",
       "      <td>0</td>\n",
       "      <td>demonstr gather last night exercis constitut p...</td>\n",
       "    </tr>\n",
       "    <tr>\n",
       "      <th>2</th>\n",
       "      <td>3</td>\n",
       "      <td>Bobby Jindal, raised Hindu, uses story of Chri...</td>\n",
       "      <td>A dozen politically active pastors came here f...</td>\n",
       "      <td>0</td>\n",
       "      <td>1</td>\n",
       "      <td>dozen polit activ pastor came privat dinner fr...</td>\n",
       "    </tr>\n",
       "    <tr>\n",
       "      <th>3</th>\n",
       "      <td>4</td>\n",
       "      <td>SATAN 2: Russia unvelis an image of its terrif...</td>\n",
       "      <td>The RS-28 Sarmat missile, dubbed Satan 2, will...</td>\n",
       "      <td>1</td>\n",
       "      <td>0</td>\n",
       "      <td>rs sarmat missil dub satan replac ss fli mile ...</td>\n",
       "    </tr>\n",
       "    <tr>\n",
       "      <th>4</th>\n",
       "      <td>5</td>\n",
       "      <td>About Time! Christian Group Sues Amazon and SP...</td>\n",
       "      <td>All we can say on this one is it s about time ...</td>\n",
       "      <td>1</td>\n",
       "      <td>0</td>\n",
       "      <td>say one time someon su southern poverti law ce...</td>\n",
       "    </tr>\n",
       "    <tr>\n",
       "      <th>...</th>\n",
       "      <td>...</td>\n",
       "      <td>...</td>\n",
       "      <td>...</td>\n",
       "      <td>...</td>\n",
       "      <td>...</td>\n",
       "      <td>...</td>\n",
       "    </tr>\n",
       "    <tr>\n",
       "      <th>70784</th>\n",
       "      <td>72129</td>\n",
       "      <td>Russians steal research on Trump in hack of U....</td>\n",
       "      <td>WASHINGTON (Reuters) - Hackers believed to be ...</td>\n",
       "      <td>0</td>\n",
       "      <td>1</td>\n",
       "      <td>washington reuter hacker believ work russian g...</td>\n",
       "    </tr>\n",
       "    <tr>\n",
       "      <th>70785</th>\n",
       "      <td>72130</td>\n",
       "      <td>WATCH: Giuliani Demands That Democrats Apolog...</td>\n",
       "      <td>You know, because in fantasyland Republicans n...</td>\n",
       "      <td>1</td>\n",
       "      <td>0</td>\n",
       "      <td>know fantasyland republican never question cit...</td>\n",
       "    </tr>\n",
       "    <tr>\n",
       "      <th>70786</th>\n",
       "      <td>72131</td>\n",
       "      <td>Migrants Refuse To Leave Train At Refugee Camp...</td>\n",
       "      <td>Migrants Refuse To Leave Train At Refugee Camp...</td>\n",
       "      <td>0</td>\n",
       "      <td>1</td>\n",
       "      <td>migrant refus leav train refuge camp hungari t...</td>\n",
       "    </tr>\n",
       "    <tr>\n",
       "      <th>70787</th>\n",
       "      <td>72132</td>\n",
       "      <td>Trump tussle gives unpopular Mexican leader mu...</td>\n",
       "      <td>MEXICO CITY (Reuters) - Donald Trump’s combati...</td>\n",
       "      <td>0</td>\n",
       "      <td>1</td>\n",
       "      <td>mexico citi reuter donald trump comb style buf...</td>\n",
       "    </tr>\n",
       "    <tr>\n",
       "      <th>70788</th>\n",
       "      <td>72133</td>\n",
       "      <td>Goldman Sachs Endorses Hillary Clinton For Pre...</td>\n",
       "      <td>Goldman Sachs Endorses Hillary Clinton For Pre...</td>\n",
       "      <td>1</td>\n",
       "      <td>0</td>\n",
       "      <td>goldman sach endors hillari clinton presid gol...</td>\n",
       "    </tr>\n",
       "  </tbody>\n",
       "</table>\n",
       "<p>70789 rows × 6 columns</p>\n",
       "</div>"
      ],
      "text/plain": [
       "       Unnamed: 0                                              title  \\\n",
       "0               0  LAW ENFORCEMENT ON HIGH ALERT Following Threat...   \n",
       "1               2  UNBELIEVABLE! OBAMA’S ATTORNEY GENERAL SAYS MO...   \n",
       "2               3  Bobby Jindal, raised Hindu, uses story of Chri...   \n",
       "3               4  SATAN 2: Russia unvelis an image of its terrif...   \n",
       "4               5  About Time! Christian Group Sues Amazon and SP...   \n",
       "...           ...                                                ...   \n",
       "70784       72129  Russians steal research on Trump in hack of U....   \n",
       "70785       72130   WATCH: Giuliani Demands That Democrats Apolog...   \n",
       "70786       72131  Migrants Refuse To Leave Train At Refugee Camp...   \n",
       "70787       72132  Trump tussle gives unpopular Mexican leader mu...   \n",
       "70788       72133  Goldman Sachs Endorses Hillary Clinton For Pre...   \n",
       "\n",
       "                                                    text  label  isFake  \\\n",
       "0      No comment is expected from Barack Obama Membe...      1       0   \n",
       "1       Now, most of the demonstrators gathered last ...      1       0   \n",
       "2      A dozen politically active pastors came here f...      0       1   \n",
       "3      The RS-28 Sarmat missile, dubbed Satan 2, will...      1       0   \n",
       "4      All we can say on this one is it s about time ...      1       0   \n",
       "...                                                  ...    ...     ...   \n",
       "70784  WASHINGTON (Reuters) - Hackers believed to be ...      0       1   \n",
       "70785  You know, because in fantasyland Republicans n...      1       0   \n",
       "70786  Migrants Refuse To Leave Train At Refugee Camp...      0       1   \n",
       "70787  MEXICO CITY (Reuters) - Donald Trump’s combati...      0       1   \n",
       "70788  Goldman Sachs Endorses Hillary Clinton For Pre...      1       0   \n",
       "\n",
       "                                              lemma_text  \n",
       "0      comment expect barack obama member fyf fukyofl...  \n",
       "1      demonstr gather last night exercis constitut p...  \n",
       "2      dozen polit activ pastor came privat dinner fr...  \n",
       "3      rs sarmat missil dub satan replac ss fli mile ...  \n",
       "4      say one time someon su southern poverti law ce...  \n",
       "...                                                  ...  \n",
       "70784  washington reuter hacker believ work russian g...  \n",
       "70785  know fantasyland republican never question cit...  \n",
       "70786  migrant refus leav train refuge camp hungari t...  \n",
       "70787  mexico citi reuter donald trump comb style buf...  \n",
       "70788  goldman sach endors hillari clinton presid gol...  \n",
       "\n",
       "[70789 rows x 6 columns]"
      ]
     },
     "execution_count": 21,
     "metadata": {},
     "output_type": "execute_result"
    }
   ],
   "source": [
    "dataset"
   ]
  },
  {
   "cell_type": "markdown",
   "id": "d0c05c60",
   "metadata": {},
   "source": [
    "### Essential step : Processing the text and stemming it. We already did that and saved it into a file to save time :)"
   ]
  },
  {
   "cell_type": "code",
   "execution_count": 22,
   "id": "aa4ddb28",
   "metadata": {},
   "outputs": [],
   "source": [
    "# dataset[\"lemma_text\"] = dataset[\"text\"].apply(preProcess)"
   ]
  },
  {
   "cell_type": "markdown",
   "id": "2b33de06",
   "metadata": {},
   "source": [
    "## Splitting data and vectorizing it"
   ]
  },
  {
   "cell_type": "code",
   "execution_count": 23,
   "id": "f40b6631",
   "metadata": {},
   "outputs": [],
   "source": [
    "train_set, temp_set = train_test_split(dataset, test_size=0.3, random_state=42) # 70% -> train , 30% temp_set\n",
    "valid_set, test_set = train_test_split(temp_set, test_size=0.33, random_state=42) # (20% of entire data) validation, 10% test\n",
    "test_set.reset_index(drop=True, inplace=True) # resetting indexes for the test function\n",
    "valid_set.reset_index(drop=True, inplace=True)\n",
    "\n",
    "# Vectorizer part\n",
    "vectorizer = CountVectorizer(max_features=5000, ngram_range=(1,2)) # We can switch between CountVectorizer and TfidfVectorizer\n",
    "X_train = vectorizer.fit_transform(train_set['lemma_text'])\n",
    "X_valid = vectorizer.transform(valid_set['lemma_text'])\n",
    "X_test = vectorizer.transform(test_set['lemma_text'])\n"
   ]
  },
  {
   "cell_type": "code",
   "execution_count": 24,
   "id": "cc45c11d",
   "metadata": {},
   "outputs": [
    {
     "data": {
      "text/plain": [
       "(49552, 5000)"
      ]
     },
     "execution_count": 24,
     "metadata": {},
     "output_type": "execute_result"
    }
   ],
   "source": [
    "X_train.shape"
   ]
  },
  {
   "cell_type": "markdown",
   "id": "f67ebbbb",
   "metadata": {},
   "source": [
    "# First method : Deep Neural Network"
   ]
  },
  {
   "cell_type": "code",
   "execution_count": null,
   "id": "c0d31655",
   "metadata": {},
   "outputs": [
    {
     "name": "stdout",
     "output_type": "stream",
     "text": [
      "Epoch [1/10], Loss: 0.10714\n",
      "Epoch [2/10], Loss: 0.18588\n"
     ]
    }
   ],
   "source": [
    "import torch\n",
    "import torch.nn as nn\n",
    "import torch.optim as optim\n",
    "from torch.utils.data import DataLoader, TensorDataset\n",
    "import torch.nn.functional as F\n",
    "\n",
    "# Converting labels to PyTorch tensors for our model\n",
    "y_train = torch.tensor(train_set['isFake'].values, dtype=torch.float32)\n",
    "y_valid = torch.tensor(valid_set['isFake'].values, dtype=torch.float32)\n",
    "y_test = torch.tensor(test_set['isFake'].values, dtype=torch.float32)\n",
    "\n",
    "# Create DataLoader for training, validation, and testing sets\n",
    "train_dataset = TensorDataset(torch.tensor(X_train.toarray(), dtype=torch.float32), y_train)\n",
    "valid_dataset = TensorDataset(torch.tensor(X_valid.toarray(), dtype=torch.float32), y_valid)\n",
    "test_dataset = TensorDataset(torch.tensor(X_test.toarray(), dtype=torch.float32), y_test)\n",
    "\n",
    "train_loader = DataLoader(train_dataset, batch_size=32, shuffle=True)\n",
    "valid_loader = DataLoader(valid_dataset, batch_size=32, shuffle=False)\n",
    "test_loader = DataLoader(test_dataset, batch_size=32, shuffle=False)\n",
    "\n",
    "# hyperparameters\n",
    "input_size = X_train.shape[1]\n",
    "\n",
    "h1_size = 64 #hiddel layer sizes\n",
    "h2_size = 32\n",
    "\n",
    "output_size = 1\n",
    "learning_rate = 1e-3\n",
    "\n",
    "#dropout probability\n",
    "dropout_p=0.4\n",
    "\n",
    "class Network(nn.Module):\n",
    "    def __init__(self, input_size, h1_size, h2_size, output_size, dropout_prob):\n",
    "        super(Network, self).__init__()\n",
    "        self.linear1 = nn.Linear(input_size, h1_size)\n",
    "        self.relu = nn.ReLU()\n",
    "        self.dropout = nn.Dropout(dropout_prob)\n",
    "\n",
    "        self.linear2 = nn.Linear(h1_size, h2_size)\n",
    "        #relu\n",
    "        #droput\n",
    "        self.linear3 = nn.Linear(h2_size, output_size)\n",
    "        #sigmoid\n",
    "\n",
    "    def forward(self, x):\n",
    "        x = self.linear1(x)\n",
    "        x = self.relu(x)\n",
    "        x = self.dropout(x)\n",
    "        \n",
    "        x = self.linear2(x)\n",
    "        x = self.relu(x)\n",
    "        x = self.dropout(x)\n",
    "        \n",
    "        x = self.linear3(x)\n",
    "        y_pred = torch.sigmoid(x)\n",
    "        return y_pred\n",
    "\n",
    "\n",
    "model = Network(input_size, h1_size, h2_size, output_size, dropout_p)\n",
    "\n",
    "# Initialize the loss function and optimizer\n",
    "criterion = nn.BCELoss() # Binary cross-entropy loss\n",
    "optimizer = optim.Adam(model.parameters(),learning_rate)\n",
    "\n",
    "# Training phase\n",
    "'''\n",
    "epoch = 1 means forward and backward pass of all training samples\n",
    "batch_size = number of training samples in one FP and BP. It's a hyperparam, we control it in Dataloaders\n",
    "'''\n",
    "num_epochs = 10\n",
    "for epoch in range(num_epochs):\n",
    "    for inputs, labels in train_loader:\n",
    "        # Forward pass\n",
    "        outputs = model(inputs)\n",
    "        loss = criterion(outputs, labels.view(-1, 1))\n",
    "\n",
    "        # Backward pass and optimization\n",
    "        loss.backward()\n",
    "        optimizer.step()\n",
    "        optimizer.zero_grad()\n",
    "\n",
    "    print(f'Epoch [{epoch + 1}/{num_epochs}], Loss: {loss.item():.5f}')\n",
    "\n",
    "    \n",
    "model.eval() # We set it up before validation/testing to turn dropout off\n",
    "\n",
    "# Validation phase\n",
    "with torch.no_grad():\n",
    "    correct = 0\n",
    "    total = 0\n",
    "    valid_predictions = []\n",
    "    for inputs, labels in valid_loader:\n",
    "        outputs = model(inputs)\n",
    "        predicted = (outputs > 0.5).float()\n",
    "        total += labels.size(0)\n",
    "        correct += (predicted == labels.view(-1, 1)).sum().item()\n",
    "        valid_predictions.extend(predicted.int().tolist())\n",
    "\n",
    "valid_accuracy = correct / total\n",
    "valid_precision = precision_score(y_valid.numpy(), valid_predictions)\n",
    "valid_recall = recall_score(y_valid.numpy(), valid_predictions)\n",
    "valid_f1 = f1_score(y_valid.numpy(), valid_predictions)\n",
    "conf_matrix_valid = confusion_matrix(y_valid.numpy(), valid_predictions)\n",
    "\n",
    "print(f'Confusion Matrix (Validation):\\n{conf_matrix_valid}')\n",
    "print(f'Validation Accuracy: {valid_accuracy:.2%}')\n",
    "print(f'Validation Precision: {valid_precision:.2%}')\n",
    "print(f'Validation Recall: {valid_recall:.2%}')\n",
    "print(f'Validation F1 Score: {valid_f1:.2%}')"
   ]
  },
  {
   "cell_type": "markdown",
   "id": "645b0600",
   "metadata": {},
   "source": [
    "### My Custom made testing function  "
   ]
  },
  {
   "cell_type": "code",
   "execution_count": null,
   "id": "d74797bb",
   "metadata": {},
   "outputs": [],
   "source": [
    "def classify_text(raw_text, model, vectorizer):\n",
    "    vectorized_text = vectorizer.transform([raw_text]) # Vectorize the raw text\n",
    "    input_tensor = torch.tensor(vectorized_text.toarray(), dtype=torch.float32) # Convert to PyTorch tensor\n",
    "    model.eval() # Set the model to evaluation mode\n",
    "    \n",
    "    # Forward pass through the model\n",
    "    with torch.no_grad():\n",
    "        output = model(input_tensor)\n",
    "    \n",
    "    #Classifying part, if > 0.5 then fake, otherwise it's true\n",
    "    predicted_label = (output > 0.5).float().item()\n",
    "    if predicted_label == 1:\n",
    "        label = 1 #Fake\n",
    "    elif predicted_label == 0:\n",
    "        label = 0 # REAL\n",
    "    return label\n",
    "\n",
    "# Testing loop\n",
    "correct = 0\n",
    "test_predictions = []\n",
    "\n",
    "for i in range(len(test_set)):\n",
    "    outcome = classify_text(test_set[\"lemma_text\"][i], model, vectorizer)\n",
    "    test_predictions.append(outcome)\n",
    "    \n",
    "#     print(f'Predicted outcome = {outcome}\\tActual Outcome = {test_set[\"isFake\"][i]}')\n",
    "    \n",
    "    # If comparison holds, increment correct\n",
    "    if outcome == test_set[\"isFake\"][i]:\n",
    "        correct += 1\n",
    "\n",
    "# Calculate Metrics\n",
    "test_accuracy = correct / len(test_set)\n",
    "test_precision = precision_score(y_test.numpy(), test_predictions)\n",
    "test_recall = recall_score(y_test.numpy(), test_predictions)\n",
    "test_f1 = f1_score(y_test.numpy(), test_predictions)\n",
    "\n",
    "print(f\"{correct} Out of {len(test_set)}\")\n",
    "print(f'Network Accuracy: {test_accuracy:.2%}')\n",
    "print(f'Network Precision: {test_precision:.2%}')\n",
    "print(f'Network Recall: {test_recall:.2%}')\n",
    "print(f'Network F1 Score: {test_f1:.2%}')\n",
    "\n",
    "network_conf_matrix_test = confusion_matrix(y_test.numpy(), test_predictions)\n",
    "print(f'Confusion Matrix (Test):\\n{network_conf_matrix_test}')\n"
   ]
  },
  {
   "cell_type": "code",
   "execution_count": 41,
   "id": "3026270d",
   "metadata": {},
   "outputs": [
    {
     "data": {
      "image/png": "[encoded data removed]",
      "text/plain": [
       "<Figure size 640x480 with 2 Axes>"
      ]
     },
     "metadata": {},
     "output_type": "display_data"
    }
   ],
   "source": [
    "from sklearn.metrics import ConfusionMatrixDisplay\n",
    "import matplotlib.pyplot as plt\n",
    "\n",
    "# Display confusion matrix\n",
    "disp = ConfusionMatrixDisplay(network_conf_matrix_test, display_labels=['Real', 'Fake'])\n",
    "disp.plot(cmap=plt.cm.Blues, values_format='.0f')\n",
    "plt.title('Network-CM')\n",
    "plt.show()"
   ]
  },
  {
   "cell_type": "markdown",
   "id": "4b9329b6",
   "metadata": {},
   "source": [
    "# Second Method : SVM Classifier"
   ]
  },
  {
   "cell_type": "code",
   "execution_count": null,
   "id": "428071d3",
   "metadata": {},
   "outputs": [],
   "source": [
    "# Extracting labels (target variable) for the training set\n",
    "y_train = train_set['isFake'].values\n",
    "\n",
    "# Extracting labels (target variable) for the validation set\n",
    "y_valid = valid_set['isFake'].values\n",
    "\n",
    "# Extracting labels (target variable) for the test set\n",
    "y_test = test_set['isFake'].values\n",
    "\n",
    "\n",
    "from sklearn.svm import SVC\n",
    "svm_model = SVC(kernel='linear')\n",
    "svm_model.fit(X_train, y_train)\n",
    "\n",
    "valid_predictions = svm_model.predict(X_valid)\n",
    "val_accuracy = accuracy_score(y_valid, valid_predictions)\n",
    "\n",
    "test_predictions = svm_model.predict(X_test)\n",
    "test_accuracy = accuracy_score(y_test, test_predictions)\n",
    "val_accuracy_percentage = val_accuracy * 100\n",
    "print(\"Validation Accuracy: {:.2f}%\\n\".format(val_accuracy_percentage))"
   ]
  },
  {
   "cell_type": "code",
   "execution_count": null,
   "id": "ff616d19",
   "metadata": {},
   "outputs": [],
   "source": [
    "\n",
    "test_accuracy_percentage = test_accuracy * 100\n",
    "#We finalize here, and display the result and performance of our task:\n",
    "svm_precision = precision_score(y_test, test_predictions)\n",
    "svm_recall = recall_score(y_test, test_predictions)\n",
    "svm_f1 = f1_score(y_test, test_predictions)\n",
    "\n",
    "print(\"SVM Accuracy: {:.2f}%\".format(test_accuracy_percentage))\n",
    "print(f'SVM Precision: {svm_precision:.2%}')\n",
    "print(f'SVM Recall: {svm_recall:.2%}')\n",
    "print(f'SVM F1 Score: {svm_f1:.2%}')\n",
    "\n",
    "svm_conf_matrix_test = confusion_matrix(y_test, test_predictions)\n",
    "print(f'Confusion Matrix (Test):\\n{svm_conf_matrix_test}')"
   ]
  },
  {
   "cell_type": "code",
   "execution_count": null,
   "id": "02f6e715",
   "metadata": {},
   "outputs": [],
   "source": [
    "# Display confusion matrix\n",
    "disp = ConfusionMatrixDisplay(svm_conf_matrix_test, display_labels=['Real', 'Fake'])\n",
    "disp.plot(cmap=plt.cm.Blues, values_format='.0f')\n",
    "plt.title('SVM-CM')\n",
    "plt.show()"
   ]
  },
  {
   "cell_type": "markdown",
   "id": "002e6b1b",
   "metadata": {},
   "source": [
    "# Third Method : Ensemble Model"
   ]
  },
  {
   "cell_type": "code",
   "execution_count": null,
   "id": "2748a530",
   "metadata": {},
   "outputs": [],
   "source": [
    "# Import necessary libraries\n",
    "from sklearn.ensemble import RandomForestClassifier\n",
    "from sklearn.metrics import accuracy_score\n",
    "import numpy as np\n",
    "\n",
    "# We have already preprocessed our data and all. We will be using the isFake column from here on\n",
    "\n",
    "# Extracting labels (target variable) for the training set\n",
    "y_train = train_set['isFake'].values\n",
    "\n",
    "# Extracting labels (target variable) for the validation set\n",
    "y_valid = valid_set['isFake'].values\n",
    "\n",
    "# Extracting labels (target variable) for the test set\n",
    "y_test = test_set['isFake'].values\n",
    "\n",
    "\n",
    "# Here we are implementing RandomForestEnsemble with bootstrapped sampling\n",
    "class RandomForestEnsemble:\n",
    "    def __init__(self, base_classifier, n_classifiers=6):\n",
    "        # Initialize the ensemble with a base classifier and the number of classifiers\n",
    "        self.base_classifier = base_classifier\n",
    "        self.n_classifiers = n_classifiers\n",
    "        # Create a list to store individual classifiers\n",
    "        self.classifiers = [base_classifier.__class__() for _ in range(n_classifiers)]\n",
    "\n",
    "    def fit(self, X, y, dataset_name, debug=False):\n",
    "        # Iterate over the classifiers and fit each with a bootstrapped sample\n",
    "        for i, classifier in enumerate(self.classifiers):\n",
    "            # Generate random indices for bootstrapped sampling\n",
    "            indices = np.random.choice(len(X), len(X), replace=True)\n",
    "            X_bootstrap, y_bootstrap = X[indices], y[indices]\n",
    "\n",
    "            if debug:\n",
    "                print(f'Fitting classifier {i} for {dataset_name} with bootstrap sample shape: '\n",
    "                      f'({X_bootstrap.shape[0]} samples (rows), {X_bootstrap.shape[1]} features (columns))')\n",
    "\n",
    "            if X_bootstrap.shape[0] == 0:\n",
    "                raise ValueError(f\"Empty bootstrap sample for classifier {i}\")\n",
    "\n",
    "            # Fit the classifier with the bootstrapped sample\n",
    "            classifier.fit(X_bootstrap, y_bootstrap)\n",
    "\n",
    "            if debug:\n",
    "                print(f'Finished fitting classifier {i}')\n",
    "\n",
    "    def predict(self, X, threshold=0.5):\n",
    "        # Make predictions for each classifier and combine them\n",
    "        predictions = np.zeros((len(self.classifiers), X.shape[0]))\n",
    "        for i, classifier in enumerate(self.classifiers):\n",
    "            predictions[i, :] = classifier.predict_proba(X)[:, 1]\n",
    "        final_predictions = np.mean(predictions, axis=0)\n",
    "        # Apply a threshold to obtain binary predictions\n",
    "        binary_predictions = (final_predictions > threshold).astype(int)\n",
    "        return binary_predictions\n",
    "\n",
    "\n",
    "# Instantiating our base classifier\n",
    "base_classifier_rf = RandomForestClassifier(n_estimators=50)\n",
    "ensemble_rf = RandomForestEnsemble(base_classifier_rf, n_classifiers=6)\n",
    "\n",
    "# Fitting ensemble on our training data\n",
    "ensemble_rf.fit(X_train.toarray(), y_train, dataset_name=\"Training Set\", debug=True)\n",
    "\n",
    "# Validations process\n",
    "predictions_valid_rf = ensemble_rf.predict(X_valid.toarray())\n",
    "accuracy_valid_rf = accuracy_score(y_valid, predictions_valid_rf, normalize=True)  # Ensure normalize=True for percentage\n",
    "validation_accuracy_percentage = accuracy_valid_rf * 100\n",
    "print(f'Validation Accuracy: {validation_accuracy_percentage:.2f}%\\n')\n",
    "\n",
    "# Predictions are made on the test set, and the accuracy is calculated and printed.\n",
    "predictions_test_rf = ensemble_rf.predict(X_test.toarray())\n",
    "accuracy_test_rf = accuracy_score(y_test, predictions_test_rf)\n",
    "test_accuracy_percentage = accuracy_test_rf * 100\n",
    "\n",
    "test_precision_percentage = precision_score(y_test, predictions_test_rf)\n",
    "test_recall_percentage = recall_score(y_test, predictions_test_rf)\n",
    "test_f1_percentage = f1_score(y_test, predictions_test_rf)\n",
    "\n",
    "print(f'Test Accuracy: {test_accuracy_percentage:.2f}%')\n",
    "print(f'Ensemble Precision: {test_precision_percentage:.2%}')\n",
    "print(f'Ensemble Recall: {test_recall_percentage:.2%}')\n",
    "print(f'Ensemble F1 Score: {test_f1_percentage:.2%}')\n",
    "\n",
    "rf_conf_matrix_test = confusion_matrix(y_test, predictions_test_rf)\n",
    "print(f'Confusion Matrix (Test):\\n{rf_conf_matrix_test}')\n",
    "\n",
    "\n"
   ]
  },
  {
   "cell_type": "code",
   "execution_count": null,
   "id": "cc1b1193",
   "metadata": {},
   "outputs": [],
   "source": [
    "# Display confusion matrix\n",
    "disp = ConfusionMatrixDisplay(rf_conf_matrix_test, display_labels=['Real', 'Fake'])\n",
    "disp.plot(cmap=plt.cm.Blues, values_format='.0f')\n",
    "plt.title('Random Forest-CM')\n",
    "plt.show()"
   ]
  },
  {
   "cell_type": "code",
   "execution_count": null,
   "id": "65be7a38",
   "metadata": {},
   "outputs": [],
   "source": []
  }
 ],
 "metadata": {
  "kernelspec": {
   "display_name": "Python 3 (ipykernel)",
   "language": "python",
   "name": "python3"
  },
  "language_info": {
   "codemirror_mode": {
    "name": "ipython",
    "version": 3
   },
   "file_extension": ".py",
   "mimetype": "text/x-python",
   "name": "python",
   "nbconvert_exporter": "python",
   "pygments_lexer": "ipython3",
   "version": "3.11.5"
  }
 },
 "nbformat": 4,
 "nbformat_minor": 5
}
